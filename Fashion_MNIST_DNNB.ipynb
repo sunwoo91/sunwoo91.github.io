{
 "cells": [
  {
   "cell_type": "code",
   "execution_count": 1,
   "metadata": {},
   "outputs": [
    {
     "name": "stderr",
     "output_type": "stream",
     "text": [
      "Using TensorFlow backend.\n"
     ]
    }
   ],
   "source": [
    "import numpy as np \n",
    "import pandas as pd \n",
    "from keras.utils import to_categorical\n",
    "data_train = pd.read_csv('../input/fashion-mnist_train.csv')\n",
    "data_test = pd.read_csv('../input/fashion-mnist_test.csv')\n",
    "\n",
    "X_train = np.array(data_train.iloc[:, 1:])\n",
    "X_test = np.array(data_test.iloc[:, 1:])\n",
    "y_train = to_categorical(np.array(data_train.iloc[:, 0]))\n",
    "y_test = to_categorical(np.array(data_test.iloc[:, 0]))"
   ]
  },
  {
   "cell_type": "code",
   "execution_count": 2,
   "metadata": {
    "collapsed": true
   },
   "outputs": [],
   "source": [
    "img_rows, img_cols = 28, 28\n",
    "X_train = X_train.reshape(X_train.shape[0], 28*28)\n",
    "X_test = X_test.reshape(X_test.shape[0], 28*28)\n",
    "input_shape = (img_rows, img_cols, 1)\n",
    "\n",
    "X_train = X_train.astype('float32')\n",
    "X_test = X_test.astype('float32')\n",
    "X_train /= 255\n",
    "X_test /= 255"
   ]
  },
  {
   "cell_type": "code",
   "execution_count": 3,
   "metadata": {},
   "outputs": [
    {
     "name": "stderr",
     "output_type": "stream",
     "text": [
      "C:\\Users\\MMI\\Anaconda3\\lib\\site-packages\\ipykernel_launcher.py:8: UserWarning: Update your `Dense` call to the Keras 2 API: `Dense(250, input_dim=784, kernel_initializer=\"normal\")`\n",
      "  \n"
     ]
    }
   ],
   "source": [
    "from keras.models import Sequential\n",
    "from keras.layers import Dense, Activation, Dropout, Flatten, Conv2D, MaxPooling2D\n",
    "from keras.layers.normalization import BatchNormalization\n",
    "\n",
    "\n",
    "\n",
    "model = Sequential()\n",
    "model.add(Dense(250, input_dim=28*28, init='normal'))\n",
    "model.add(BatchNormalization())\n",
    "model.add(Dropout(0.25))\n",
    "model.add(Dense(375, activation='relu'))\n",
    "model.add(BatchNormalization())\n",
    "model.add(Dropout(0.25))\n",
    "model.add(Dense(500, activation='relu'))\n",
    "model.add(BatchNormalization())\n",
    "model.add(Dropout(0.25))\n",
    "model.add(Dense(625, activation='relu'))\n",
    "model.add(BatchNormalization())\n",
    "model.add(Dropout(0.25))\n",
    "model.add(Dense(625, activation='relu'))\n",
    "model.add(BatchNormalization())\n",
    "model.add(Dropout(0.25))\n",
    "model.add(Dense(750, activation='relu'))\n",
    "model.add(BatchNormalization())\n",
    "model.add(Dropout(0.25))\n",
    "model.add(Dense(875, activation='relu'))\n",
    "model.add(BatchNormalization())\n",
    "model.add(Dropout(0.25))\n",
    "model.add(Dense(1000, activation='relu'))\n",
    "model.add(BatchNormalization())\n",
    "model.add(Dropout(0.5))\n",
    "model.add(Dense(10, activation='softmax'))\n",
    "model.compile(optimizer='adam',\n",
    "          loss='categorical_crossentropy',\n",
    "          metrics=['accuracy'])"
   ]
  },
  {
   "cell_type": "code",
   "execution_count": 4,
   "metadata": {},
   "outputs": [
    {
     "name": "stdout",
     "output_type": "stream",
     "text": [
      "_________________________________________________________________\n",
      "Layer (type)                 Output Shape              Param #   \n",
      "=================================================================\n",
      "dense_1 (Dense)              (None, 250)               196250    \n",
      "_________________________________________________________________\n",
      "batch_normalization_1 (Batch (None, 250)               1000      \n",
      "_________________________________________________________________\n",
      "dropout_1 (Dropout)          (None, 250)               0         \n",
      "_________________________________________________________________\n",
      "dense_2 (Dense)              (None, 375)               94125     \n",
      "_________________________________________________________________\n",
      "batch_normalization_2 (Batch (None, 375)               1500      \n",
      "_________________________________________________________________\n",
      "dropout_2 (Dropout)          (None, 375)               0         \n",
      "_________________________________________________________________\n",
      "dense_3 (Dense)              (None, 500)               188000    \n",
      "_________________________________________________________________\n",
      "batch_normalization_3 (Batch (None, 500)               2000      \n",
      "_________________________________________________________________\n",
      "dropout_3 (Dropout)          (None, 500)               0         \n",
      "_________________________________________________________________\n",
      "dense_4 (Dense)              (None, 625)               313125    \n",
      "_________________________________________________________________\n",
      "batch_normalization_4 (Batch (None, 625)               2500      \n",
      "_________________________________________________________________\n",
      "dropout_4 (Dropout)          (None, 625)               0         \n",
      "_________________________________________________________________\n",
      "dense_5 (Dense)              (None, 625)               391250    \n",
      "_________________________________________________________________\n",
      "batch_normalization_5 (Batch (None, 625)               2500      \n",
      "_________________________________________________________________\n",
      "dropout_5 (Dropout)          (None, 625)               0         \n",
      "_________________________________________________________________\n",
      "dense_6 (Dense)              (None, 750)               469500    \n",
      "_________________________________________________________________\n",
      "batch_normalization_6 (Batch (None, 750)               3000      \n",
      "_________________________________________________________________\n",
      "dropout_6 (Dropout)          (None, 750)               0         \n",
      "_________________________________________________________________\n",
      "dense_7 (Dense)              (None, 875)               657125    \n",
      "_________________________________________________________________\n",
      "batch_normalization_7 (Batch (None, 875)               3500      \n",
      "_________________________________________________________________\n",
      "dropout_7 (Dropout)          (None, 875)               0         \n",
      "_________________________________________________________________\n",
      "dense_8 (Dense)              (None, 1000)              876000    \n",
      "_________________________________________________________________\n",
      "batch_normalization_8 (Batch (None, 1000)              4000      \n",
      "_________________________________________________________________\n",
      "dropout_8 (Dropout)          (None, 1000)              0         \n",
      "_________________________________________________________________\n",
      "dense_9 (Dense)              (None, 10)                10010     \n",
      "=================================================================\n",
      "Total params: 3,215,385\n",
      "Trainable params: 3,205,385\n",
      "Non-trainable params: 10,000\n",
      "_________________________________________________________________\n"
     ]
    }
   ],
   "source": [
    "model.summary()"
   ]
  },
  {
   "cell_type": "code",
   "execution_count": 5,
   "metadata": {},
   "outputs": [
    {
     "name": "stdout",
     "output_type": "stream",
     "text": [
      "Train on 60000 samples, validate on 10000 samples\n",
      "Epoch 1/10\n",
      "60000/60000 [==============================] - 164s - loss: 0.7902 - acc: 0.7393 - val_loss: 0.4416 - val_acc: 0.8463\n",
      "Epoch 2/10\n",
      "60000/60000 [==============================] - 173s - loss: 0.5369 - acc: 0.8143 - val_loss: 0.4245 - val_acc: 0.8485\n",
      "Epoch 3/10\n",
      "60000/60000 [==============================] - 171s - loss: 0.5081 - acc: 0.8220 - val_loss: 0.3897 - val_acc: 0.8560\n",
      "Epoch 4/10\n",
      "60000/60000 [==============================] - 171s - loss: 0.4726 - acc: 0.8329 - val_loss: 0.3780 - val_acc: 0.8665\n",
      "Epoch 5/10\n",
      "60000/60000 [==============================] - 175s - loss: 0.4543 - acc: 0.8426 - val_loss: 0.4089 - val_acc: 0.8558\n",
      "Epoch 6/10\n",
      "60000/60000 [==============================] - 170s - loss: 0.4380 - acc: 0.8455 - val_loss: 0.3844 - val_acc: 0.8584\n",
      "Epoch 7/10\n",
      "60000/60000 [==============================] - 179s - loss: 0.4235 - acc: 0.8515 - val_loss: 0.3867 - val_acc: 0.8629\n",
      "Epoch 8/10\n",
      "60000/60000 [==============================] - 174s - loss: 0.4025 - acc: 0.8591 - val_loss: 0.3493 - val_acc: 0.8746\n",
      "Epoch 9/10\n",
      "60000/60000 [==============================] - 177s - loss: 0.3923 - acc: 0.8610 - val_loss: 0.3306 - val_acc: 0.8805\n",
      "Epoch 10/10\n",
      "60000/60000 [==============================] - 166s - loss: 0.3797 - acc: 0.8652 - val_loss: 0.3225 - val_acc: 0.8837\n"
     ]
    }
   ],
   "source": [
    "\n",
    "hist = model.fit(X_train, y_train,\n",
    "          batch_size=50,\n",
    "          epochs=10,\n",
    "          verbose=1,\n",
    "          validation_data=(X_test, y_test))\n",
    "score = model.evaluate(X_test, y_test, verbose=0)"
   ]
  },
  {
   "cell_type": "code",
   "execution_count": 6,
   "metadata": {},
   "outputs": [
    {
     "data": {
      "image/png": "[encoded data removed]",
      "text/plain": [
       "<matplotlib.figure.Figure at 0x1bc1b4cc240>"
      ]
     },
     "metadata": {},
     "output_type": "display_data"
    }
   ],
   "source": [
    "from matplotlib import pyplot as plt\n",
    "fig, loss_ax = plt.subplots()\n",
    "\n",
    "acc_ax = loss_ax.twinx()\n",
    "\n",
    "loss_ax.plot(hist.history['loss'], 'm')\n",
    "loss_ax.plot(hist.history['val_loss'], 'k')\n",
    "\n",
    "acc_ax.plot(hist.history['acc'], 'r' )\n",
    "acc_ax.plot(hist.history['val_acc'], 'b')\n",
    "\n",
    "loss_ax.set_xlabel('epoch')\n",
    "loss_ax.set_ylabel('loss')\n",
    "acc_ax. set_ylabel('acc')\n",
    "\n",
    "\n",
    "\n",
    "plt.show()"
   ]
  },
  {
   "cell_type": "code",
   "execution_count": null,
   "metadata": {
    "collapsed": true
   },
   "outputs": [],
   "source": []
  },
  {
   "cell_type": "code",
   "execution_count": null,
   "metadata": {
    "collapsed": true
   },
   "outputs": [],
   "source": []
  }
 ],
 "metadata": {
  "kernelspec": {
   "display_name": "Python 3",
   "language": "python",
   "name": "python3"
  },
  "language_info": {
   "codemirror_mode": {
    "name": "ipython",
    "version": 3
   },
   "file_extension": ".py",
   "mimetype": "text/x-python",
   "name": "python",
   "nbconvert_exporter": "python",
   "pygments_lexer": "ipython3",
   "version": "3.6.1"
  }
 },
 "nbformat": 4,
 "nbformat_minor": 2
}
